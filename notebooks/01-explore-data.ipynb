{
 "cells": [
  {
   "cell_type": "code",
   "execution_count": 4,
   "id": "154ce73a-c0e9-4e8b-a263-d16fb8a6946b",
   "metadata": {},
   "outputs": [],
   "source": [
    "import os\n",
    "import sys\n",
    "import shutil\n",
    "import time\n",
    "\n",
    "from pathlib import Path\n",
    "\n",
    "import requests\n",
    "import io\n",
    "import zipfile\n"
   ]
  },
  {
   "cell_type": "code",
   "execution_count": 29,
   "id": "fa38e3e3-b580-4ebe-b3f2-37a3ee955687",
   "metadata": {},
   "outputs": [],
   "source": [
    "def download_zip_data(url,save_path='data'):\n",
    "\n",
    "    if not os.path.exists(save_path):\n",
    "        os.makedirs(save_path)\n",
    "\n",
    "    print(\"Download the data...\")\n",
    "    response=requests.get(url,timeout=10)\n",
    "    response.raise_for_status()\n",
    "\n",
    "    if response.status_code==200:\n",
    "        with zipfile.ZipFile(io.BytesIO(response.content)) as zip_file:\n",
    "            zip_file.extractall(save_path)\n",
    "        print(f\"The dataset downloaded successfuly in {save_path}\")\n",
    "        \n",
    "    else:\n",
    "        print(f\"The data could not be downloaded\")\n",
    "            \n",
    "        "
   ]
  },
  {
   "cell_type": "code",
   "execution_count": 30,
   "id": "baedff26-d937-4acc-a027-71783174f065",
   "metadata": {},
   "outputs": [
    {
     "name": "stdout",
     "output_type": "stream",
     "text": [
      "Download the data...\n",
      "The dataset downloaded successfuly in ../data/raw/\n",
      "<_io.BytesIO object at 0x000001F279812F20>\n"
     ]
    }
   ],
   "source": [
    "# test\n",
    "save_path=\"../data/raw/\"\n",
    "download_zip_data(url=\"https://archive.ics.uci.edu/static/public/222/bank+marketing.zip\",save_path=save_path)"
   ]
  },
  {
   "cell_type": "code",
   "execution_count": null,
   "id": "d02a9c30-091b-46b9-aeef-d82b052920ae",
   "metadata": {},
   "outputs": [],
   "source": []
  }
 ],
 "metadata": {
  "kernelspec": {
   "display_name": "dll",
   "language": "python",
   "name": "myenv"
  },
  "language_info": {
   "codemirror_mode": {
    "name": "ipython",
    "version": 3
   },
   "file_extension": ".py",
   "mimetype": "text/x-python",
   "name": "python",
   "nbconvert_exporter": "python",
   "pygments_lexer": "ipython3",
   "version": "3.11.10"
  }
 },
 "nbformat": 4,
 "nbformat_minor": 5
}
