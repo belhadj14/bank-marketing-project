{
 "cells": [
  {
   "cell_type": "code",
   "execution_count": 6,
   "id": "154ce73a-c0e9-4e8b-a263-d16fb8a6946b",
   "metadata": {},
   "outputs": [],
   "source": [
    "import os\n",
    "import sys\n",
    "import shutil\n",
    "import time\n",
    "\n",
    "import pandas  as pd\n",
    "from pathlib import Path\n",
    "\n",
    "import requests\n",
    "import io\n",
    "import zipfile\n"
   ]
  },
  {
   "cell_type": "code",
   "execution_count": 3,
   "id": "fa38e3e3-b580-4ebe-b3f2-37a3ee955687",
   "metadata": {},
   "outputs": [],
   "source": [
    "def download_zip_data(url,save_path='data'):\n",
    "\n",
    "    if not os.path.exists(save_path):\n",
    "        os.makedirs(save_path)\n",
    "\n",
    "    print(\"Download the data...\")\n",
    "    response=requests.get(url,timeout=10)\n",
    "    response.raise_for_status()\n",
    "\n",
    "    if response.status_code==200:\n",
    "        with zipfile.ZipFile(io.BytesIO(response.content)) as zip_file:\n",
    "            zip_file.extractall(save_path)\n",
    "        print(f\"The dataset downloaded successfuly in {save_path}\")\n",
    "        \n",
    "    else:\n",
    "        print(f\"The data could not be downloaded\")\n",
    "            \n",
    "        "
   ]
  },
  {
   "cell_type": "code",
   "execution_count": 4,
   "id": "baedff26-d937-4acc-a027-71783174f065",
   "metadata": {},
   "outputs": [
    {
     "name": "stdout",
     "output_type": "stream",
     "text": [
      "Download the data...\n",
      "The dataset downloaded successfuly in ../data/raw/\n"
     ]
    }
   ],
   "source": [
    "# test\n",
    "save_path=\"../data/raw/\"\n",
    "download_zip_data(url=\"https://archive.ics.uci.edu/static/public/222/bank+marketing.zip\",save_path=save_path)"
   ]
  },
  {
   "cell_type": "code",
   "execution_count": 12,
   "id": "9e7dc588-508d-4b9b-bcad-ab36178bdf4d",
   "metadata": {},
   "outputs": [],
   "source": [
    "data_path=\"../data/raw/bank-additional/\""
   ]
  },
  {
   "cell_type": "code",
   "execution_count": 13,
   "id": "0ed8581d-29b3-4fbe-8f77-0bbb45a3ebf0",
   "metadata": {},
   "outputs": [
    {
     "data": {
      "text/plain": [
       "['.DS_Store',\n",
       " '.Rhistory',\n",
       " 'bank-additional-full.csv',\n",
       " 'bank-additional-names.txt',\n",
       " 'bank-additional.csv']"
      ]
     },
     "execution_count": 13,
     "metadata": {},
     "output_type": "execute_result"
    }
   ],
   "source": [
    "os.listdir(data_path)"
   ]
  },
  {
   "cell_type": "code",
   "execution_count": 18,
   "id": "51f24592-cf1e-4fe0-b207-2b0e35c12e92",
   "metadata": {},
   "outputs": [],
   "source": [
    "dataset_dir=os.path.join(data_path,'bank-additional-full.csv')"
   ]
  },
  {
   "cell_type": "code",
   "execution_count": 19,
   "id": "d02a9c30-091b-46b9-aeef-d82b052920ae",
   "metadata": {},
   "outputs": [],
   "source": [
    "#Read the data\n",
    "def load_dataset(path_dir):\n",
    "    df=pd.read_csv(path_dir,sep=\";\")\n",
    "    return df"
   ]
  },
  {
   "cell_type": "code",
   "execution_count": 32,
   "id": "f1ef8cfd-d5e6-4b92-9e10-3d59eda3576a",
   "metadata": {},
   "outputs": [],
   "source": [
    "#Explore the data\n",
    "def explore_data(data):\n",
    "    \"\"\"\n",
    "    Display basic informations about the dataset\n",
    "    \"\"\"\n",
    "    print(\"*\"*72)\n",
    "    print(\"Dataset overview\".center(72))\n",
    "    print(\"*\"*72)\n",
    "\n",
    "    print(f\"Dataset Shape: {data.shape}\")\n",
    "    print(\"*\"*72)\n",
    "    print(f\"Check the first few rows\")\n",
    "\n",
    "    print(\"*\"*72)\n",
    "    print(data.head())\n",
    "\n",
    "    print(f\"Basic Statiscal Summary:\\n{data.describe().T}\")\n",
    "    "
   ]
  },
  {
   "cell_type": "code",
   "execution_count": 29,
   "id": "8db04e16-bff8-42d8-9b86-ee4df998159e",
   "metadata": {},
   "outputs": [
    {
     "name": "stdout",
     "output_type": "stream",
     "text": [
      "************************************************************************\n",
      "                            Dataset overview                            \n",
      "************************************************************************\n",
      "Dataset Shape: (41188, 21)\n",
      "Check the first few rows\n",
      "   age        job  marital    education  default housing loan    contact  \\\n",
      "0   56  housemaid  married     basic.4y       no      no   no  telephone   \n",
      "1   57   services  married  high.school  unknown      no   no  telephone   \n",
      "2   37   services  married  high.school       no     yes   no  telephone   \n",
      "3   40     admin.  married     basic.6y       no      no   no  telephone   \n",
      "4   56   services  married  high.school       no      no  yes  telephone   \n",
      "\n",
      "  month day_of_week  ...  campaign  pdays  previous     poutcome emp.var.rate  \\\n",
      "0   may         mon  ...         1    999         0  nonexistent          1.1   \n",
      "1   may         mon  ...         1    999         0  nonexistent          1.1   \n",
      "2   may         mon  ...         1    999         0  nonexistent          1.1   \n",
      "3   may         mon  ...         1    999         0  nonexistent          1.1   \n",
      "4   may         mon  ...         1    999         0  nonexistent          1.1   \n",
      "\n",
      "   cons.price.idx  cons.conf.idx  euribor3m  nr.employed   y  \n",
      "0          93.994          -36.4      4.857       5191.0  no  \n",
      "1          93.994          -36.4      4.857       5191.0  no  \n",
      "2          93.994          -36.4      4.857       5191.0  no  \n",
      "3          93.994          -36.4      4.857       5191.0  no  \n",
      "4          93.994          -36.4      4.857       5191.0  no  \n",
      "\n",
      "[5 rows x 21 columns]\n",
      "Basic Statiscal Summary:\n",
      "                  count         mean         std       min       25%  \\\n",
      "age             41188.0    40.024060   10.421250    17.000    32.000   \n",
      "duration        41188.0   258.285010  259.279249     0.000   102.000   \n",
      "campaign        41188.0     2.567593    2.770014     1.000     1.000   \n",
      "pdays           41188.0   962.475454  186.910907     0.000   999.000   \n",
      "previous        41188.0     0.172963    0.494901     0.000     0.000   \n",
      "emp.var.rate    41188.0     0.081886    1.570960    -3.400    -1.800   \n",
      "cons.price.idx  41188.0    93.575664    0.578840    92.201    93.075   \n",
      "cons.conf.idx   41188.0   -40.502600    4.628198   -50.800   -42.700   \n",
      "euribor3m       41188.0     3.621291    1.734447     0.634     1.344   \n",
      "nr.employed     41188.0  5167.035911   72.251528  4963.600  5099.100   \n",
      "\n",
      "                     50%       75%       max  \n",
      "age               38.000    47.000    98.000  \n",
      "duration         180.000   319.000  4918.000  \n",
      "campaign           2.000     3.000    56.000  \n",
      "pdays            999.000   999.000   999.000  \n",
      "previous           0.000     0.000     7.000  \n",
      "emp.var.rate       1.100     1.400     1.400  \n",
      "cons.price.idx    93.749    93.994    94.767  \n",
      "cons.conf.idx    -41.800   -36.400   -26.900  \n",
      "euribor3m          4.857     4.961     5.045  \n",
      "nr.employed     5191.000  5228.100  5228.100  \n"
     ]
    }
   ],
   "source": [
    "explore_data(load_dataset(dataset_dir))"
   ]
  },
  {
   "cell_type": "code",
   "execution_count": 33,
   "id": "94490e10-20b5-4e33-adb3-6b8d299d6eac",
   "metadata": {},
   "outputs": [],
   "source": [
    "save_dir=\"../data/interim/bank-additional-full.csv\"\n",
    "load_dataset(dataset_dir).to_csv(save_dir,index=False)"
   ]
  },
  {
   "cell_type": "code",
   "execution_count": null,
   "id": "b9f68f06-2182-4e96-84b1-fa276f43ee9c",
   "metadata": {},
   "outputs": [],
   "source": [
    "os.listdir(\"../data/interim/\")"
   ]
  },
  {
   "cell_type": "code",
   "execution_count": null,
   "id": "43e68206-0a09-40e5-b0b2-fe55f0c0018e",
   "metadata": {},
   "outputs": [],
   "source": []
  }
 ],
 "metadata": {
  "kernelspec": {
   "display_name": "dll",
   "language": "python",
   "name": "myenv"
  },
  "language_info": {
   "codemirror_mode": {
    "name": "ipython",
    "version": 3
   },
   "file_extension": ".py",
   "mimetype": "text/x-python",
   "name": "python",
   "nbconvert_exporter": "python",
   "pygments_lexer": "ipython3",
   "version": "3.11.10"
  }
 },
 "nbformat": 4,
 "nbformat_minor": 5
}
