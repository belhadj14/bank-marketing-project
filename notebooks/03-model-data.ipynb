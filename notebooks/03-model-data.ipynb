{
 "cells": [
  {
   "cell_type": "code",
   "execution_count": null,
   "id": "263e11bd-834a-4235-bc02-b38d7d44376d",
   "metadata": {},
   "outputs": [],
   "source": [
    "#=================================================================================================#\n",
    "# Modeling the data\n",
    "#=================================================================================================#\n",
    "import tensorflow as tf"
   ]
  },
  {
   "cell_type": "code",
   "execution_count": 1,
   "id": "2ea2f832-e043-4222-a3e1-9db0713fc2c7",
   "metadata": {},
   "outputs": [],
   "source": [
    "# Load the data\n",
    "\n",
    "# Process the target"
   ]
  },
  {
   "cell_type": "code",
   "execution_count": null,
   "id": "a0a01755-0aae-4780-b659-f9acae3fe9ff",
   "metadata": {},
   "outputs": [],
   "source": [
    "# Create a simple "
   ]
  }
 ],
 "metadata": {
  "kernelspec": {
   "display_name": "dll",
   "language": "python",
   "name": "myenv"
  },
  "language_info": {
   "codemirror_mode": {
    "name": "ipython",
    "version": 3
   },
   "file_extension": ".py",
   "mimetype": "text/x-python",
   "name": "python",
   "nbconvert_exporter": "python",
   "pygments_lexer": "ipython3",
   "version": "3.11.10"
  }
 },
 "nbformat": 4,
 "nbformat_minor": 5
}
