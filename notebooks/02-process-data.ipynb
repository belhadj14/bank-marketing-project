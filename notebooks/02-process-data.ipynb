{
 "cells": [
  {
   "cell_type": "code",
   "execution_count": 1,
   "id": "afe0cf4b-8191-4cba-94ff-2d37af6a9b3c",
   "metadata": {},
   "outputs": [],
   "source": [
    "#========================================================================================#\n",
    "#        Process Bank Marketing Dataset\n",
    "#        Author:\n",
    "#        Date :16-01-2025\n",
    "#========================================================================================#"
   ]
  },
  {
   "cell_type": "code",
   "execution_count": 5,
   "id": "7ac9d02f-560b-4b05-82c7-cc494c61beea",
   "metadata": {},
   "outputs": [],
   "source": [
    "# Env Setup\n",
    "\n",
    "import os\n",
    "import sys\n",
    "import shutil\n",
    "import time\n",
    "from pathlib import Path\n",
    "\n",
    "import numpy as np\n",
    "import pandas as pd\n",
    "from  sklearn.preprocessing import OneHotEncoder,LabelEncoder,MinMaxScaler\n",
    "\n",
    "#Global Config\n",
    "DATA_ROOT=Path(\"../data/interim/\").resolve()\n",
    "DATASET_DIR=Path.joinpath(DATA_ROOT,'bank-additional-full.csv')\n"
   ]
  },
  {
   "cell_type": "code",
   "execution_count": 6,
   "id": "a886dd2c-cd28-4bea-9968-7d97b061c412",
   "metadata": {},
   "outputs": [
    {
     "data": {
      "text/plain": [
       "['bank-additional-full.csv']"
      ]
     },
     "execution_count": 6,
     "metadata": {},
     "output_type": "execute_result"
    }
   ],
   "source": []
  },
  {
   "cell_type": "code",
   "execution_count": null,
   "id": "8f8309eb-3805-4c4f-8df1-5f36f8d63ad6",
   "metadata": {},
   "outputs": [],
   "source": []
  }
 ],
 "metadata": {
  "kernelspec": {
   "display_name": "Python 3 (ipykernel)",
   "language": "python",
   "name": "python3"
  },
  "language_info": {
   "codemirror_mode": {
    "name": "ipython",
    "version": 3
   },
   "file_extension": ".py",
   "mimetype": "text/x-python",
   "name": "python",
   "nbconvert_exporter": "python",
   "pygments_lexer": "ipython3",
   "version": "3.12.5"
  }
 },
 "nbformat": 4,
 "nbformat_minor": 5
}
